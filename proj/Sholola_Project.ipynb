{
 "cells": [
  {
   "cell_type": "markdown",
   "id": "716b806e-60ad-4e87-b275-d5e91ca32fa1",
   "metadata": {
    "id": "716b806e-60ad-4e87-b275-d5e91ca32fa1"
   },
   "source": [
    "# Project : Weekly Task & Habit Tracker\n",
    "## Overview of the Project\n",
    "In this project, you will develop a Weekly Task & Habit Tracker using Python. This tool will help users track their tasks and habits throughout the week, allowing them to efficiently manage and monitor their daily routines and progress. Whether for personal use or as a professional productivity tool, this project will empower you to create a highly functional, interactive application using fundamental programming concepts in Python.\n",
    "\n",
    "The task tracker will allow users to:\n",
    "\n",
    "- Add tasks to specific days of the week and being able to mark them as completed.\n",
    "- Add and track daily habits (such as exercise, water intake, reading, etc) and mark them as completed.\n",
    "- Remove tasks or habits when no longer needed.\n",
    "- View progress reports for both tasks and habits over a weekly or daily basis.\n",
    "\n",
    "## Objectives of the Project\n",
    "The primary goal of this project is to build a simple yet effective task and habit tracking application. Through this, you will:\n",
    "\n",
    "- Gain hands-on experience in developing Python applications with user input, loops, and conditionals.\n",
    "- Understand how to manage and manipulate data structures like dictionaries and lists to store and process data.\n",
    "- Learn how to design and implement interactive user interfaces in a command-line environment.\n",
    "- Develop a deep understanding of code modularity and best practices for organizing Python programs.\n",
    "\n",
    "## Evaluation Criteria\n",
    "Your project will be evaluated on the following aspects:\n",
    "\n",
    "- **Functionality**: The application should be fully functional, allowing users to add, remove, and mark tasks or habits as complete, as well as generate reports.\n",
    "\n",
    "- **Code Organization**: Code should be well-structured, with clear, meaningful variable names and appropriate use of functions. The overall organization should make it easy to extend or modify the program in the future.\n",
    "\n",
    "- **User Experience**: The application should be easy to use, with clear instructions, error handling, and appropriate feedback for the user.\n",
    "\n",
    "- **Completeness**: Ensure all features are implemented as described and that the program runs smoothly without errors.\n",
    "\n",
    "- **Creativity**: The application should be developed with an eye toward user experience. Feel free to enhance the application with additional features such as custom messages or additional functionality.\n",
    "\n",
    "\n",
    "By the end of this project, you will have developed a working task and habit tracker in Python, an excellent demonstration of your ability to apply programming skills to practical scenarios. You will also gain insights into software design, data management, and the development of tools that are both useful and efficient."
   ]
  },
  {
   "cell_type": "markdown",
   "id": "d5d1b472-0df8-4ffc-9ad6-f99d2eec262d",
   "metadata": {
    "id": "d5d1b472-0df8-4ffc-9ad6-f99d2eec262d"
   },
   "source": [
    "## Part 1: Initial Setup\n",
    "Set up the foundational structure for your weekly task and habit tracker.\n",
    "### Instructions:\n",
    "1. Create a list containing all the days of the week **('Monday', 'Tuesday', 'Wednesday', 'Thursday', 'Friday', 'Saturday', 'Sunday')**.\n",
    "2. Initialize an empty dictionary that will be used to track habits for the week.\n",
    "3. Create a second dictionary that uses the days of the week as keys, with each key initially linked to an empty dictionary for storing tasks."
   ]
  },
  {
   "cell_type": "code",
   "execution_count": 6,
   "id": "f1547fa4-5741-4921-9cc0-8774c11ee377",
   "metadata": {
    "id": "f1547fa4-5741-4921-9cc0-8774c11ee377"
   },
   "outputs": [
    {
     "name": "stdout",
     "output_type": "stream",
     "text": [
      "{} \n",
      " {'Monday': {}, 'Tuesday': {}, 'Wednesday': {}, 'Thursday': {}, 'Friday': {}, 'Saturday': {}, 'Sunday': {}}\n"
     ]
    }
   ],
   "source": [
    "#your code goes here\n",
    "days = ['Monday', 'Tuesday', 'Wednesday', 'Thursday', 'Friday', 'Saturday', 'Sunday']\n",
    "weekly_habits = {}\n",
    "\n",
    "weekly_tasks = {}\n",
    "for day in days:\n",
    "    weekly_tasks[day] = {}\n",
    "\n",
    "print(weekly_habits, \"\\n\", weekly_tasks)\n",
    "\n",
    "# cache for optimization; use set()\n",
    "habits_list = set()\n",
    "tasks_list = set()"
   ]
  },
  {
   "cell_type": "markdown",
   "id": "9638fbde-9b43-4c68-ae54-77f251099b8e",
   "metadata": {
    "id": "9638fbde-9b43-4c68-ae54-77f251099b8e"
   },
   "source": [
    "## Part 2: Add Tasks and Habits\n",
    "Build functions that let users add tasks to specific days and habits for the entire week.\n",
    "### Instructions\n",
    "1. **Create a function to add tasks:**\n",
    "- Ask the user which day they want to add the task to.\n",
    "- Make sure to validate the day. Display a message if the day was invalid.\n",
    "- Ask for the task name.\n",
    "- Store it in the dictionary you created to store tasks under the correct day.\n",
    "- Set the task’s value to *False* to show it hasn’t been completed yet.\n",
    "\n",
    "\n",
    "2. **Create a function to add habits:**\n",
    "- Ask the user for the name of the habit (e.g., “Drink Water”).\n",
    "- Make sure to check if the habit already exists. Display a message if it does.\n",
    "- If it’s new, add it to the dictionary you created to store habits.\n",
    "- For that habit, create a nested dictionary with all 7 days set to *False*.\n",
    "\n",
    "\n",
    "**Tip:** Use ***.strip()*** and ***.title()*** to clean up user input.\n",
    "- **.strip()** = Removes any extra spaces at the beginning or end of the text. People often hit the spacebar by accident and add leading or trailing unwanted spaces. Example: \"  Monday  \" can be fixed by using .strip(): \"Monday\"\"\n",
    "- **.title()** = Capitalizes the first letter of each word and makes the rest lowercase. It helps match formatting exactly (especially for days of the week). Example: \"monday\" or \"MONDAY\"\" will be changed to \"Monday\".\n",
    "- **If the day does not exist, show a helpful error message.**"
   ]
  },
  {
   "cell_type": "code",
   "execution_count": null,
   "id": "8e5a08ca-bd93-486c-9dbd-621e16e3064c",
   "metadata": {
    "id": "8e5a08ca-bd93-486c-9dbd-621e16e3064c"
   },
   "outputs": [
    {
     "name": "stdout",
     "output_type": "stream",
     "text": [
      "Listening has been successfully added to Monday, thanks :]\n",
      "Monday\n",
      "\t('Dancing', True)\n",
      "\t('Swimming', False)\n",
      "\t('Listening', False)\n",
      "Tuesday\n",
      "\t('Boxing', True)\n",
      "Wednesday\n",
      "Thursday\n",
      "Friday\n",
      "Saturday\n",
      "Sunday\n",
      "\t('Singing', True)\n"
     ]
    }
   ],
   "source": [
    "\"\"\"\n",
    "    desc: queries the user for a new task and adds it to the specified day of the week \n",
    "\"\"\"\n",
    "def addTask():\n",
    "    # simulate a do-while loop\n",
    "    # if invalid day is provided, retry until a valid day is\n",
    "    task_day = (input(\"Which day would you like to add a task to?\").strip()).title()\n",
    "    while task_day not in days:\n",
    "        print(\"Invalid day entered! Please try again, thanks :]\")\n",
    "        task_day = (input(\"Which day would you like to add a task to?\").strip()).title()\n",
    "        \n",
    "        if task_day in days:\n",
    "            break\n",
    "\n",
    "    # once again, simulate a do-while loop\n",
    "    # if a task that already exists on the specified day is provided, retry until a new task is provided\n",
    "    task_name = (input(f\"Which task would you like to add to {task_day}?\").strip()).title()\n",
    "    while task_name in weekly_tasks[task_day]:\n",
    "        if task_name==\"\":\n",
    "            print(f\"The task name cannot be *blank*! Please enter a proper task name, thanks!\")\n",
    "        else:\n",
    "            print(f\"This task has already been added to {task_day}. \\nYou can either add {task_name} to a different day or add a different task to {task_day}, thanks!\")\n",
    "\n",
    "        task_name = (input(f\"Which task would you like to add to {task_day}?\").strip()).title()\n",
    "        \n",
    "        if task_name not in weekly_tasks[task_day]:\n",
    "            break\n",
    "    \n",
    "    # optimization\n",
    "    tasks_list.add(task_name)\n",
    "\n",
    "    weekly_tasks[task_day][task_name] = False\n",
    "    print(f\"{task_name} has been successfully added to {task_day}, thanks :]\")\n",
    "    displayTasks()\n",
    "    \n",
    "\n",
    "def displayTasks():\n",
    "    for day in weekly_tasks:\n",
    "        print(f\"{day}\")\n",
    "        for task, completeness in weekly_tasks[day].items():\n",
    "            print(f\"\\t{task, completeness}\")\n",
    "\n",
    "\n",
    "addTask()"
   ]
  },
  {
   "cell_type": "code",
   "execution_count": 28,
   "id": "4ce280fe-fea3-43e4-be24-022607ffa934",
   "metadata": {
    "id": "4ce280fe-fea3-43e4-be24-022607ffa934",
    "scrolled": true
   },
   "outputs": [
    {
     "name": "stdout",
     "output_type": "stream",
     "text": [
      "Composing has been successfully added to the week, thanks :]\n",
      "Dancing\n",
      "\t('Monday', True)\n",
      "\t('Tuesday', False)\n",
      "\t('Wednesday', False)\n",
      "\t('Thursday', False)\n",
      "\t('Friday', False)\n",
      "\t('Saturday', False)\n",
      "\t('Sunday', False)\n",
      "Singing\n",
      "\t('Monday', False)\n",
      "\t('Tuesday', False)\n",
      "\t('Wednesday', False)\n",
      "\t('Thursday', False)\n",
      "\t('Friday', False)\n",
      "\t('Saturday', False)\n",
      "\t('Sunday', False)\n",
      "Composing\n",
      "\t('Monday', False)\n",
      "\t('Tuesday', False)\n",
      "\t('Wednesday', False)\n",
      "\t('Thursday', False)\n",
      "\t('Friday', False)\n",
      "\t('Saturday', False)\n",
      "\t('Sunday', False)\n"
     ]
    }
   ],
   "source": [
    "\"\"\"\n",
    "    desc: queries the user for a new habit and adds it the weekly tracker\n",
    "\"\"\"\n",
    "def addHabit():\n",
    "    # if a habit that already exists is provided, retry until a new habit is provided\n",
    "    habit = (input(\"Which new habit would you like to add to the week?\").strip()).title()\n",
    "    while habit in weekly_habits:\n",
    "        if habit==\"\":\n",
    "            print(f\"The habit cannot be *blank*. Please enter a proper habit, thanks :]\")\n",
    "        else:\n",
    "            print(\"This habit already exists in the habit tracker! Please try again, thanks :]\")\n",
    "        \n",
    "        habit = (input(\"Which new habit would you like to add to the week?\").strip()).title()\n",
    "\n",
    "        if habit not in weekly_habits:\n",
    "            break\n",
    "\n",
    "\n",
    "    # optimization\n",
    "    habits_list.add(habit)\n",
    "\n",
    "    weekly_habits[habit] = {}\n",
    "    for day in days:\n",
    "        weekly_habits[habit][day] = False\n",
    "    print(f\"{habit} has been successfully added to the week, thanks :]\")\n",
    "    displayHabits()\n",
    "\n",
    "\n",
    "def displayHabits():\n",
    "    for habit in weekly_habits:\n",
    "        print(f\"{habit}\")\n",
    "        for day, completeness in weekly_habits[habit].items():\n",
    "            print(f\"\\t{day, completeness}\")\n",
    "\n",
    "\n",
    "addHabit()"
   ]
  },
  {
   "cell_type": "markdown",
   "id": "2b4d9b4d-c7cb-4e18-a989-6bf66ce0488d",
   "metadata": {
    "id": "2b4d9b4d-c7cb-4e18-a989-6bf66ce0488d"
   },
   "source": [
    "## Part 3: Marking Tasks and Habits as Complete\n",
    "In this part, you'll implement two functions to allow users to mark their progress: one for tasks and one for habits.\n",
    "### Instructions:\n",
    "1. Create a function to mark tasks as complete:\n",
    "- Display all uncompleted tasks along with the day they belong to.\n",
    "- Ask the user to enter the name of the task they completed.\n",
    "- Find and update the task in your data structure by setting its value to *True*.\n",
    "- If all tasks are completed, display a message saying so.\n",
    "- Make sure to validate the day and check if the task exists. Display a message if the task does not exist or if the day was invalid.\n",
    "- **BONUS:** If the task is from a day before today, print a encouraging or funny message like: \"Task marked as complete. Better late than never!\" **Tip:** You can use the *datetime* library.\n",
    "\n",
    "2. Create a function to mark habits as complete:\n",
    "- Ask the user to enter the day and the name of the habit.\n",
    "- Make sure to validate the day and check if the habit exists. Display a message if the habit does not exist or if the day was invalid.\n",
    "- Update the habit’s status for that day by setting its value to *True*.\n",
    "\n",
    "#### Tips:\n",
    "- Use **.strip()** and **.title()** to clean up user input.\n",
    "- Always check if the dictionary contains data before trying to access something.\n",
    "- **If the day, habit or task doesn't exist, show a helpful error message.**\n",
    "  \n",
    "**Helpful note:** You can access a dictionary’s information using loops like this:"
   ]
  },
  {
   "cell_type": "code",
   "execution_count": null,
   "id": "30bb895d-dd03-402a-ac23-98b07fae6602",
   "metadata": {
    "id": "30bb895d-dd03-402a-ac23-98b07fae6602",
    "outputId": "eb3b27e8-aa92-433b-e363-8b7ca0fbe209"
   },
   "outputs": [],
   "source": [
    "my_dict = {\n",
    "    \"a\": 1,\n",
    "    \"b\": 2,\n",
    "    \"c\": 3\n",
    "}\n",
    "\n",
    "# Loop through keys and values\n",
    "for key, value in my_dict.items():\n",
    "    print(f\"{key} = {value}\")\n"
   ]
  },
  {
   "cell_type": "markdown",
   "id": "3232b6a3-02ef-448e-9d92-4579cf3dc54a",
   "metadata": {
    "id": "3232b6a3-02ef-448e-9d92-4579cf3dc54a"
   },
   "source": [
    "This will print each key and its value.\n",
    "\n",
    "You can also loop just through keys with ***for key in my_dict:*** or just values with for value in ***my_dict.values():***"
   ]
  },
  {
   "cell_type": "code",
   "execution_count": null,
   "id": "ac83b67f-6984-4325-b9e0-1dbc2a0f58b8",
   "metadata": {
    "id": "ac83b67f-6984-4325-b9e0-1dbc2a0f58b8"
   },
   "outputs": [
    {
     "name": "stdout",
     "output_type": "stream",
     "text": [
      "Here is the current list of incomplete tasks:\n",
      "Tuesday : Boxing\n",
      "Better late than never! Boxing from Tuesday has now been marked as complete on Sunday!\n",
      "Here is the updated list of weekly tasks:\n",
      "{'Monday': {'Dancing': True}, 'Tuesday': {'Boxing': True}, 'Wednesday': {}, 'Thursday': {}, 'Friday': {}, 'Saturday': {}, 'Sunday': {'Singing': True}}\n"
     ]
    }
   ],
   "source": [
    "from datetime import date\n",
    "\n",
    "\"\"\"\n",
    "    desc: marks a valid task as complete (this permits duplicate tasks [across multiple days])\n",
    "\"\"\"\n",
    "def markTask():\n",
    "\n",
    "    # BONUS: use to determine state of progress\n",
    "    curr_day_index = date.today().weekday();  # print(curr_day)\n",
    "    curr_day = days[curr_day_index]\n",
    "\n",
    "    num_incomplete_tasks = 0\n",
    "\n",
    "    for day in weekly_tasks:\n",
    "        for task, completeness in weekly_tasks[day].items():\n",
    "            if not completeness:\n",
    "                if num_incomplete_tasks==0:\n",
    "                    print(\"Here is the current list of incomplete tasks:\")      # print just once/the first time\n",
    "\n",
    "                print(f\"{day} : {task}\")\n",
    "                num_incomplete_tasks+=1\n",
    "\n",
    "\n",
    "    if num_incomplete_tasks==0:\n",
    "        print(\"All tasks are currently complete! Please add more tasks to your weekly schedule, thanks!\")\n",
    "    else:\n",
    "        task_to_mark = (input(\"Which task would you like to mark as complete?\").strip()).title()\n",
    "        while task_to_mark not in tasks_list:\n",
    "            print(f\"{task_to_mark} is not a valid task.\")\n",
    "            task_to_mark = (input(f\"Which task would you like to mark as complete?\").strip()).title()\n",
    "\n",
    "            if task_to_mark in tasks_list:\n",
    "                break\n",
    "        \n",
    "\n",
    "        if task_to_mark in weekly_tasks[curr_day]:                                          # check current day\n",
    "            if weekly_tasks[curr_day][task_to_mark]:                                        # already marked as complete\n",
    "                print(f\"{task_to_mark} has already been marked as complete!\")       \n",
    "            else:                                                                           # task not marked yet\n",
    "                weekly_tasks[curr_day][task_to_mark] = True\n",
    "                print(f\"{task_to_mark} has now been marked as complete on {curr_day}!\") \n",
    "        else:                                                                               # check all other days\n",
    "            for day in weekly_tasks:\n",
    "                for task, completeness in weekly_tasks[day].items():\n",
    "                    if task == task_to_mark:\n",
    "                        if days.index(day) < curr_day_index:                                # task completed late\n",
    "                            if weekly_tasks[day][task_to_mark]:                             # already marked as complete\n",
    "                                print(f\"{task_to_mark} has already been marked as complete!\")\n",
    "                            else:                                                           # task not marked yet\n",
    "                                weekly_tasks[day][task_to_mark] = True\n",
    "                                print(f\"Better late than never! {task_to_mark} from {day} has now been marked as complete on {curr_day}!\")\n",
    "                        else :                                                              # task completed ahead of schedule\n",
    "                            if weekly_tasks[day][task_to_mark]:                             # already marked as complete\n",
    "                                print(f\"{task_to_mark} has already been marked as complete!\")\n",
    "                            else:\n",
    "                                weekly_tasks[day][task_to_mark] = True                      # task not marked yet\n",
    "                                print(f\"Nice job getting ahead! {task_to_mark} for {day} has now been marked as complete on {curr_day}!\")\n",
    "        \n",
    "    print(\"Here is the updated list of weekly tasks:\")\n",
    "    displayTasks()\n",
    "\n",
    "        \n",
    "markTask()"
   ]
  },
  {
   "cell_type": "code",
   "execution_count": 30,
   "id": "57e7ed4d-c30d-46ae-a714-da282a196796",
   "metadata": {
    "id": "57e7ed4d-c30d-46ae-a714-da282a196796",
    "scrolled": true
   },
   "outputs": [
    {
     "name": "stdout",
     "output_type": "stream",
     "text": [
      "\n",
      "Here is the current list of weekly habits:\n",
      "Dancing\n",
      "\t('Monday', True)\n",
      "\t('Tuesday', False)\n",
      "\t('Wednesday', False)\n",
      "\t('Thursday', False)\n",
      "\t('Friday', False)\n",
      "\t('Saturday', False)\n",
      "\t('Sunday', False)\n",
      "Singing\n",
      "\t('Monday', False)\n",
      "\t('Tuesday', False)\n",
      "\t('Wednesday', False)\n",
      "\t('Thursday', False)\n",
      "\t('Friday', False)\n",
      "\t('Saturday', False)\n",
      "\t('Sunday', False)\n",
      "Composing\n",
      "\t('Monday', False)\n",
      "\t('Tuesday', False)\n",
      "\t('Wednesday', True)\n",
      "\t('Thursday', False)\n",
      "\t('Friday', False)\n",
      "\t('Saturday', False)\n",
      "\t('Sunday', False)\n",
      "\n",
      "Here is the updated list of weekly habits:\n",
      "Dancing\n",
      "\t('Monday', True)\n",
      "\t('Tuesday', True)\n",
      "\t('Wednesday', False)\n",
      "\t('Thursday', False)\n",
      "\t('Friday', False)\n",
      "\t('Saturday', False)\n",
      "\t('Sunday', False)\n",
      "Singing\n",
      "\t('Monday', False)\n",
      "\t('Tuesday', False)\n",
      "\t('Wednesday', False)\n",
      "\t('Thursday', False)\n",
      "\t('Friday', False)\n",
      "\t('Saturday', False)\n",
      "\t('Sunday', False)\n",
      "Composing\n",
      "\t('Monday', False)\n",
      "\t('Tuesday', False)\n",
      "\t('Wednesday', True)\n",
      "\t('Thursday', False)\n",
      "\t('Friday', False)\n",
      "\t('Saturday', False)\n",
      "\t('Sunday', False)\n"
     ]
    }
   ],
   "source": [
    "\"\"\"\n",
    "    desc: marks a valid habit as complete/performed on a specific day\n",
    "\"\"\"\n",
    "def markHabit():\n",
    "    print(\"\\nHere is the current list of weekly habits:\")\n",
    "    displayHabits()\n",
    "\n",
    "\n",
    "    # query user for habit\n",
    "    habit = (input(\"Which habit would you like to mark as complete?\").strip()).title()\n",
    "    \n",
    "    while habit not in habits_list:\n",
    "        print(\"Invalid habit entered! Please try again, thanks :]\")\n",
    "        task_day = (input(\"Which habit would you like to mark as complete?\").strip()).title()\n",
    "\n",
    "        if habit in habits_list:\n",
    "            break\n",
    "\n",
    "    # query user for the day that the habit was performed\n",
    "    habit_day = (input(\"On which day did you perform this habit?\").strip()).title()\n",
    "\n",
    "    while habit_day not in days:\n",
    "        print(\"Invalid day entered! Please try again, thanks :]\")\n",
    "        task_day = (input(\"On which day did you complete this habit?\").strip()).title()\n",
    "        \n",
    "        if habit_day in days:\n",
    "            break\n",
    "\n",
    "    weekly_habits[habit][habit_day] = True\n",
    "\n",
    "    print(\"\\nHere is the updated list of weekly habits:\")\n",
    "    displayHabits()\n",
    "\n",
    "    \n",
    "\n",
    "markHabit()"
   ]
  },
  {
   "cell_type": "markdown",
   "id": "9d889f9f-d755-4609-a045-d39dcd8353c6",
   "metadata": {
    "id": "9d889f9f-d755-4609-a045-d39dcd8353c6"
   },
   "source": [
    "## Part 4: Removing Tasks and Habits\n",
    "\n",
    "For this and all subsequent submissions, track your project progress with version control in a local repository connected to GitHub. Create a directory with your first initial and last name (ex. project-sclarke for Sarah Clarke) to keep track of the files relating to the project.\n",
    "\n",
    "Next, connect the local Git repository to GitHub. Ensure the GitHub repository is set to public, and include the link here:\n",
    "\n",
    "**GitHub Link:** `insert link here`\n",
    "\n",
    "For tracking progress, there should be a *minimum* of 3 commits in the version history by the end of the project, one for each submission (version with parts 1-3 completed, version with parts 1-5, final submission version).\n",
    "\n",
    "\n",
    "### Instructions:\n",
    "1. Create a function to remove a task:\n",
    "- Ask the user which day the task is on.\n",
    "- Show the list of tasks for that day, if there are none, display a message saying so.\n",
    "- Ask the user which task to remove.\n",
    "- If the task exists, delete it from the dictionary using del and display a message saying which task was deleted.\n",
    "- Make sure to validate the day and check if the task exists. Display a message if the task does not exist or if the day was invalid.\n",
    "\n",
    "2. Create a function to remove a habit:\n",
    "- Display all habits that are currently being tracked.\n",
    "- Ask the user which habit to remove. Display a message if the habit does not exist.\n",
    "- If it exists in the dictionary, delete it using del and display a message saying which habit was deleted.\n",
    "- Make sure to validate the day and check if the habit exists. Display a message if the habit does not exist or if the day was invalid.\n",
    "\n",
    "#### Tips:\n",
    "- Use **.strip()** and **.title()** to clean up user input.\n",
    "- Always check if the dictionary contains data before trying to access or delete something.\n",
    "- **If the day, habit or task doesn't exist, show a helpful error message.**"
   ]
  },
  {
   "cell_type": "code",
   "execution_count": null,
   "id": "49bc0d69-db7d-4d06-b024-5ba01de17709",
   "metadata": {
    "id": "49bc0d69-db7d-4d06-b024-5ba01de17709"
   },
   "outputs": [],
   "source": [
    "#your code goes here"
   ]
  },
  {
   "cell_type": "code",
   "execution_count": null,
   "id": "02fa45e1-cf69-4601-aded-b6c3cfde2070",
   "metadata": {
    "id": "02fa45e1-cf69-4601-aded-b6c3cfde2070"
   },
   "outputs": [],
   "source": [
    "#your code goes here"
   ]
  },
  {
   "cell_type": "markdown",
   "id": "e7f5f645-b3f5-4425-b339-2df5941fefd2",
   "metadata": {
    "id": "e7f5f645-b3f5-4425-b339-2df5941fefd2"
   },
   "source": [
    "## Part 5: Generating Weekly and Daily Reports\n",
    "\n",
    "### Instructions:\n",
    "1. Create a Weekly Report Function\n",
    "\n",
    "This function should summarize the user's progress over the entire week.\n",
    "- For Habits:\n",
    "    - Loop through each habit in your habit tracker.\n",
    "    - Count how many days the habit was marked as complete using a loop or a list comprehension.\n",
    "    - Display the habit name and the number of days it was completed out of 7.\n",
    "    - Display a message if there are no habits found.\n",
    "- For Tasks:\n",
    "    - Loop through all days and collect tasks into two separate lists:\n",
    "        - One for completed tasks\n",
    "        - One for not completed tasks\n",
    "    - Include the task name and the day in parentheses.\n",
    "    - Display both lists clearly.\n",
    "    - Display a message if there are no tasks found.\n",
    "\n",
    "2. Create a Daily Report Function\n",
    "\n",
    "This function allows the user to view all their activity for a specific day.\n",
    "\n",
    "- Ask the user to enter a day (e.g., \"Monday\").\n",
    "- If the day is valid:\n",
    "    - Display all tasks for that day, showing whether each one is complete or not.\n",
    "    - Display all habits, showing whether they were completed on that day.\n",
    "- Use ✅ for completed and ❌ for not completed.\n",
    "\n",
    "#### Tips:\n",
    "- Use **.title()** to make sure the input day matches the format in your list.\n",
    "- Use clear formatting in your print statements to separate sections.\n",
    "- Always check if the dictionary contains data before trying to access something.\n",
    "- **If the day doesn't exist, show a helpful error message.**"
   ]
  },
  {
   "cell_type": "code",
   "execution_count": null,
   "id": "b4b1d7d1-b604-435c-887e-c83ba04f6cca",
   "metadata": {
    "id": "b4b1d7d1-b604-435c-887e-c83ba04f6cca"
   },
   "outputs": [],
   "source": [
    "#your code goes here"
   ]
  },
  {
   "cell_type": "code",
   "execution_count": null,
   "id": "5b16088c-530a-492a-b507-58b73d6c73ad",
   "metadata": {
    "id": "5b16088c-530a-492a-b507-58b73d6c73ad"
   },
   "outputs": [],
   "source": [
    "#your code goes here"
   ]
  },
  {
   "cell_type": "markdown",
   "id": "6fa4385e-f80a-4465-abf2-5593d6afb88e",
   "metadata": {
    "id": "6fa4385e-f80a-4465-abf2-5593d6afb88e"
   },
   "source": [
    "## Part 6: Instructions – Building the Main Menu System\n",
    "In this final part, you'll create a main control loop that acts as the user interface for your program. This allows users to interact with your habit and task tracker through a series of text-based menu options.\n",
    "\n",
    "### Instructions:\n",
    "1. Set Up a Loop: Use a loop to keep showing the menu until the user chooses to exit.\n",
    "\n",
    "2. Display the Main Menu\n",
    "- Show numbered options for:\n",
    "    - 1. Adding a Task or Habit\n",
    "    - 2. Marking a Task or Habit as complete\n",
    "    - 3. Removing a Task or Habit\n",
    "    - 4. Viewing reports\n",
    "    - 5. Exiting the program\n",
    "\n",
    "3. Handle User Input\n",
    "   \n",
    "Ask the user to choose an option using input(). Based on the number they enter:\n",
    "\n",
    "- Option 1: Ask whether they want to add a Task or a Habit. Call the correct function.\n",
    "- Option 2: Ask whether they want to mark a Task or Habit as complete. Call the right function.\n",
    "- Option 3: Ask whether they want to remove a Task or a Habit. Call the appropriate function.\n",
    "- Option 4: Ask whether they want a Weekly or Daily report. Call the corresponding function.\n",
    "- Option 5: Exit the loop using break.\n",
    "\n",
    "4. Validate Input: Check for valid input at each step. If the user enters an invalid choice, show an error message and return to the menu."
   ]
  },
  {
   "cell_type": "code",
   "execution_count": null,
   "id": "e7c12d32-31d4-4c02-8e19-3304dfea818b",
   "metadata": {
    "id": "e7c12d32-31d4-4c02-8e19-3304dfea818b",
    "outputId": "f9bc33c1-9598-4b6f-e95d-4af49c39bf57"
   },
   "outputs": [],
   "source": [
    "#your code goes here"
   ]
  }
 ],
 "metadata": {
  "colab": {
   "provenance": []
  },
  "kernelspec": {
   "display_name": "Python 3",
   "language": "python",
   "name": "python3"
  },
  "language_info": {
   "codemirror_mode": {
    "name": "ipython",
    "version": 3
   },
   "file_extension": ".py",
   "mimetype": "text/x-python",
   "name": "python",
   "nbconvert_exporter": "python",
   "pygments_lexer": "ipython3",
   "version": "3.11.0"
  }
 },
 "nbformat": 4,
 "nbformat_minor": 5
}
